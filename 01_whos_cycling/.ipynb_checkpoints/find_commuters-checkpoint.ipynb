{
 "cells": [
  {
   "cell_type": "markdown",
   "metadata": {},
   "source": [
    "# Find Citibike Commuters"
   ]
  },
  {
   "cell_type": "markdown",
   "metadata": {},
   "source": [
    "## Get trip data\n",
    "\n",
    "I tag this with the day of the week, where Monday=0, then filter it to only look at weekdays (yes, there are commuters who also work saturday-sunday: we can get to them later). "
   ]
  },
  {
   "cell_type": "code",
   "execution_count": null,
   "metadata": {
    "collapsed": true
   },
   "outputs": [],
   "source": [
    "import pandas as pd\n",
    "\n",
    "def get_trip_data(tripfile):\n",
    "    dftrip = pd.read_csv(tripfile, sep=',')\n",
    "    dftrip['dtstarttime'] = pd.to_datetime(dftrip['starttime'])\n",
    "    dftrip['weekday'] = dftrip['dtstarttime'].dt.dayofweek\n",
    "    dftrip['starthour'] = dftrip['dtstarttime'].dt.hour\n",
    "    dfweek = dftrip[dftrip['weekday'] < 5]\n",
    "    return dftrip, dfweek\n",
    "    \n",
    "datadir = 'citibike_data/'\n",
    "monthcode = '201506'\n",
    "tripfile = datadir + monthcode + '-citibike-tripdata.csv'\n",
    "dftrip, dfweek = get_trip_data(tripfile)\n",
    "dfweek['starthour'].value_counts().sort_index()"
   ]
  },
  {
   "cell_type": "markdown",
   "metadata": {},
   "source": [
    "## Find round-trip journeys\n",
    "\n",
    "I don't know if this will be useful, but lets start by looking at known demographics (e.g. 25-year-old women) and trips between pairs of stations."
   ]
  },
  {
   "cell_type": "code",
   "execution_count": null,
   "metadata": {
    "collapsed": true
   },
   "outputs": [],
   "source": []
  },
  {
   "cell_type": "markdown",
   "metadata": {},
   "source": [
    "## Get Station Data\n"
   ]
  },
  {
   "cell_type": "code",
   "execution_count": null,
   "metadata": {
    "collapsed": true
   },
   "outputs": [],
   "source": [
    "def get_dock_data(dockfile):\n",
    "    ''' Get data from dock occupancy file '''\n",
    "    dfdock = pd.read_csv(dockfile, sep=',')\n",
    "    # Find deserts; order by stations and timestamps\n",
    "    dfdock['percent_bikes'] = 100*dfdock['avail_bikes']/dfdock['tot_docks']\n",
    "    dfdock['percent_docks'] = 100*dfdock['avail_docks']/dfdock['tot_docks']\n",
    "    dfdock['hour24'] = 12*dfdock['pm']+dfdock['hour']\n",
    "    dockdesert = dfdock[dfdock['avail_docks'] == 0]\n",
    "    bikedesert = dfdock[dfdock['avail_bikes'] == 0]\n",
    "    dockdesert_id_by_hour = dockdesert.pivot_table(\n",
    "        index='dock_id',\n",
    "        columns='hour24',\n",
    "        values='minute',\n",
    "        aggfunc='count', fill_value=0)\n",
    "    bikedesert_id_by_hour = bikedesert.pivot_table(\n",
    "        index='dock_id',\n",
    "        columns='hour24',\n",
    "        values='minute',\n",
    "        aggfunc='count', fill_value=0)\n",
    "    # bikedesert_id_by_hour.head(10).plot(kind='bar', stacked=True)\n",
    "    # plt.show()\n",
    "    return dfdock, dockdesert, bikedesert\n",
    "\n",
    "stationfile = datadir + 'citibike_stations_with_neighs.csv'\n",
    "dfstation = pd.read_csv(stationfile, sep=',')\n",
    "\n",
    "dockfile = datadir + monthcode + '_stations_cleaned.csv'"
   ]
  }
 ],
 "metadata": {
  "kernelspec": {
   "display_name": "Python 2",
   "language": "python",
   "name": "python2"
  },
  "language_info": {
   "codemirror_mode": {
    "name": "ipython",
    "version": 2
   },
   "file_extension": ".py",
   "mimetype": "text/x-python",
   "name": "python",
   "nbconvert_exporter": "python",
   "pygments_lexer": "ipython2",
   "version": "2.7.10"
  }
 },
 "nbformat": 4,
 "nbformat_minor": 0
}
